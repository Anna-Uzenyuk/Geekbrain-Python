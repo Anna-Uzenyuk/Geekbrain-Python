{
  "nbformat": 4,
  "nbformat_minor": 0,
  "metadata": {
    "colab": {
      "name": "ДЗ. Урок 1. Узенюк А",
      "provenance": [],
      "authorship_tag": "ABX9TyN8mvY5gYMXW262Ue+u6CJL",
      "include_colab_link": true
    },
    "kernelspec": {
      "name": "python3",
      "display_name": "Python 3"
    },
    "language_info": {
      "name": "python"
    }
  },
  "cells": [
    {
      "cell_type": "markdown",
      "metadata": {
        "id": "view-in-github",
        "colab_type": "text"
      },
      "source": [
        "<a href=\"https://colab.research.google.com/github/Anna-Uzenyuk/Geekbrain-Python/blob/main/%D0%94%D0%97_%D0%A3%D1%80%D0%BE%D0%BA_1_%D0%A3%D0%B7%D0%B5%D0%BD%D1%8E%D0%BA_%D0%90.ipynb\" target=\"_parent\"><img src=\"https://colab.research.google.com/assets/colab-badge.svg\" alt=\"Open In Colab\"/></a>"
      ]
    },
    {
      "cell_type": "code",
      "metadata": {
        "id": "72hwLlMSK5zj"
      },
      "source": [
        "items = ['У','з', 'е', 'н','ю','к','','А','н','н','а']\n",
        "for item in items:\n",
        "  print(item)"
      ],
      "execution_count": null,
      "outputs": []
    },
    {
      "cell_type": "code",
      "metadata": {
        "id": "RRDvdnZlM2jG"
      },
      "source": [
        "def euroTodollar(euro):\n",
        "  total = 1.17 * euro\n",
        "  return total\n",
        "  \n"
      ],
      "execution_count": 3,
      "outputs": []
    },
    {
      "cell_type": "code",
      "metadata": {
        "colab": {
          "base_uri": "https://localhost:8080/"
        },
        "id": "0RpharLNOgwa",
        "outputId": "52039d36-12d3-436a-8072-5cf7745583f6"
      },
      "source": [
        "print(\"{:.2f}\".format(euroTodollar(60)))\n"
      ],
      "execution_count": 9,
      "outputs": [
        {
          "output_type": "stream",
          "name": "stdout",
          "text": [
            "70.20\n"
          ]
        }
      ]
    }
  ]
}